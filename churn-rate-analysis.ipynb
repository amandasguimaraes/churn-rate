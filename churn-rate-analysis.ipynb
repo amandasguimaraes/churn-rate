{
 "cells": [
  {
   "cell_type": "markdown",
   "metadata": {},
   "source": [
    "# Análise de Cancelamento de Clientes\n",
    "\n",
    "Você foi contratado por uma empresa com mais de 800 mil clientes para um projeto de Dados. Recentemente a empresa percebeu que da sua base total de clientes, a maioria são clientes inativos, ou seja, que já cancelaram o serviço.\n",
    "\n",
    "Precisando melhorar seus resultados ela quer conseguir entender os principais motivos desses cancelamentos e quais as ações mais eficientes para reduzir esse número.\n",
    "\n",
    "Este projeto foi desenvolvido utilizando a base de dados disponibilizada durante a Jornada Python da Hashtag Treinamentos."
   ]
  },
  {
   "cell_type": "code",
   "execution_count": 20,
   "metadata": {},
   "outputs": [],
   "source": [
    "# importando bibliotecas\n",
    "import pandas as pd\n",
    "import plotly.express as px"
   ]
  },
  {
   "cell_type": "code",
   "execution_count": null,
   "metadata": {},
   "outputs": [],
   "source": [
    "# importando e visualizando a base de dados\n",
    "df = pd.read_csv(\"cancelamentos.csv\")\n",
    "\n",
    "df = df.drop(columns=\"CustomerID\")\n",
    "display(df)"
   ]
  },
  {
   "cell_type": "code",
   "execution_count": null,
   "metadata": {},
   "outputs": [],
   "source": [
    "# pré processamento dos dados\n",
    "\n",
    "display(df.info())\n",
    "\n",
    "# excluindo valores vazios\n",
    "df = df.dropna()\n",
    "display(df.info())"
   ]
  },
  {
   "cell_type": "code",
   "execution_count": null,
   "metadata": {},
   "outputs": [],
   "source": [
    "# analisando os dados\n",
    "\n",
    "# verificando números de cancelamento\n",
    "display(df[\"cancelou\"].value_counts())\n",
    "display(df[\"cancelou\"].value_counts(normalize=True)) # percentual"
   ]
  },
  {
   "cell_type": "code",
   "execution_count": null,
   "metadata": {},
   "outputs": [],
   "source": [
    "# analisando as causas dos cancelamentos\n",
    "\n",
    "for coluna in df.columns:\n",
    "    grafico = px.histogram(df, x=coluna, color=\"cancelou\")\n",
    "    grafico.show()"
   ]
  },
  {
   "cell_type": "code",
   "execution_count": null,
   "metadata": {},
   "outputs": [],
   "source": [
    "# analisando os dados no caso perfeito\n",
    "\n",
    "df = df[df[\"duracao_contrato\"]!=\"Monthly\"]\n",
    "df = df[df[\"ligacoes_callcenter\"]<=4]\n",
    "df = df[df[\"dias_atraso\"]<=20]\n",
    "df = df[df[\"idade\"] <=50]\n",
    "\n",
    "# analisando taxas de cancelamento\n",
    "display(df[\"cancelou\"].value_counts())\n",
    "display(df[\"cancelou\"].value_counts(normalize=True)) # percentual"
   ]
  }
 ],
 "metadata": {
  "kernelspec": {
   "display_name": "Python 3 (ipykernel)",
   "language": "python",
   "name": "python3"
  },
  "language_info": {
   "codemirror_mode": {
    "name": "ipython",
    "version": 3
   },
   "file_extension": ".py",
   "mimetype": "text/x-python",
   "name": "python",
   "nbconvert_exporter": "python",
   "pygments_lexer": "ipython3",
   "version": "3.10.6"
  }
 },
 "nbformat": 4,
 "nbformat_minor": 2
}
